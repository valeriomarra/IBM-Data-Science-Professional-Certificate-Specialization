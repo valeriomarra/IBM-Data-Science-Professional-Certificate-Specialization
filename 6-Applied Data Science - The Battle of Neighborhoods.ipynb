{
    "nbformat_minor": 1, 
    "cells": [
        {
            "source": "# Applied Data Science - The Battle of Neighborhoods\nThe idea is to leverage the Foursquare location data to explore and compare neighborhoods.", 
            "cell_type": "markdown", 
            "metadata": {}
        }, 
        {
            "source": "## Introduction/Business problem\nBelow is provided a concise discussion of the business/data science problem and background, and who would be interested in this project.\n\n### Definition of the problem\nSomeone is looking to open a restaurant in a city of choice, where would we recommend that they open it?\n\n### Where Foursquare location data are needed to solve or execute\nFoursquare location data provides information such as the categories of the venues in the neighborhoods of the city of choice. Such data are necessary to analyze the neighborhoods to determine, for example, the most common venues and cluster them. By examining the clusters a determination regarding the discriminating venue categories that distinguish each cluster can be made. Moreover, information such as overall rating, number of tips, agree counts, Foursquare users and users' friends, and popular and trending spots around a venue, are available for any further analysis needed by the stakeholders.\n\n### Description of audience and why they would care about the problem\nThe target audience for this data science problem are the stakeholders interested in opening a restaurant in the city of choice. The target audience cares about this problem because picking the right neighborhood is of the essence for the success of their business venture.", 
            "cell_type": "markdown", 
            "metadata": {}
        }, 
        {
            "source": "## Data\nBelow is provided a concise description of the data that will be used to solve the problem and the source of the data.\n\n### Description of data\nThe following location data are needed to solve the data science problem:\n- Postal codes to determine latitude and longitude coordinates of neighborhoods used to retrieve Foursquare location data.\n- Unique categories of the venues in the neighborhoods of the city of choice from Foursquare location data for determining the mean of the frequency of occurrence of each category. Learning most common venues and clustering techniques depend on such data.\n\n### Description of the source of the data\nFoursquare is a location data provider. By constructing a specific URL a request can be sent to the Foursquare API to: search for a specific type of venue around a given location, learn more about a specific venue, learn more about a specific Foursquare user, explore a given location, explore trending venues around a given location.", 
            "cell_type": "markdown", 
            "metadata": {}
        }, 
        {
            "source": "## Methodology\n_Discussion and description of performed exploratory data analysis and inferential statistical testing, and machine learnings used and why._", 
            "cell_type": "markdown", 
            "metadata": {}
        }, 
        {
            "source": "**Not due yet.**", 
            "cell_type": "markdown", 
            "metadata": {}
        }, 
        {
            "source": "## Results\n_Discussion of the results._", 
            "cell_type": "markdown", 
            "metadata": {}
        }, 
        {
            "source": "**Not due yet.**", 
            "cell_type": "markdown", 
            "metadata": {}
        }, 
        {
            "source": "## Discussion\n_Discussion of noted observations and recommendations that can me made based on the results._", 
            "cell_type": "markdown", 
            "metadata": {}
        }, 
        {
            "source": "**Not due yet.**", 
            "cell_type": "markdown", 
            "metadata": {}
        }, 
        {
            "source": "## Conclusions\n_Conclusions of the report._", 
            "cell_type": "markdown", 
            "metadata": {}
        }, 
        {
            "source": "**Not due yet.**", 
            "cell_type": "markdown", 
            "metadata": {}
        }, 
        {
            "source": "## Presentation/blog post\n_Choice of a presentation or blogpost._\n- Just like a report, we need to either prepare a presentation of the project or write a blogpost.\n- For a presentation, picture yourself presenting the work to a manager or a client, and build your presentation with that mindset.\n- For a blogpost, write a summary of the work in a very elegant and intriguing way. Blogposts are one of the means to showcase work done to potential employers and other data scientists as well.", 
            "cell_type": "markdown", 
            "metadata": {}
        }, 
        {
            "source": "**Not due yet.**", 
            "cell_type": "markdown", 
            "metadata": {}
        }
    ], 
    "metadata": {
        "kernelspec": {
            "display_name": "Python 3.5", 
            "name": "python3", 
            "language": "python"
        }, 
        "language_info": {
            "mimetype": "text/x-python", 
            "nbconvert_exporter": "python", 
            "version": "3.5.5", 
            "name": "python", 
            "file_extension": ".py", 
            "pygments_lexer": "ipython3", 
            "codemirror_mode": {
                "version": 3, 
                "name": "ipython"
            }
        }
    }, 
    "nbformat": 4
}